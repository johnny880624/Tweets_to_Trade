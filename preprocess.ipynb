{
 "cells": [
  {
   "cell_type": "code",
   "execution_count": 2,
   "metadata": {},
   "outputs": [],
   "source": [
    "import pandas as pd\n",
    "raw_test = pd.read_parquet('test-00000-of-00001-cb0233e05c1cc1c9.parquet', engine='fastparquet')\n",
    "raw_train = pd.read_parquet('train-00000-of-00001-49baa0648effea14.parquet', engine='fastparquet')\n"
   ]
  },
  {
   "cell_type": "code",
   "execution_count": 19,
   "metadata": {},
   "outputs": [
    {
     "data": {
      "text/html": [
       "<div>\n",
       "<style scoped>\n",
       "    .dataframe tbody tr th:only-of-type {\n",
       "        vertical-align: middle;\n",
       "    }\n",
       "\n",
       "    .dataframe tbody tr th {\n",
       "        vertical-align: top;\n",
       "    }\n",
       "\n",
       "    .dataframe thead th {\n",
       "        text-align: right;\n",
       "    }\n",
       "</style>\n",
       "<table border=\"1\" class=\"dataframe\">\n",
       "  <thead>\n",
       "    <tr style=\"text-align: right;\">\n",
       "      <th></th>\n",
       "      <th>post_date</th>\n",
       "      <th>tweet</th>\n",
       "      <th>ticker_symbol</th>\n",
       "    </tr>\n",
       "  </thead>\n",
       "  <tbody>\n",
       "    <tr>\n",
       "      <th>0</th>\n",
       "      <td>2019-03-07</td>\n",
       "      <td>There we go  $TSLA</td>\n",
       "      <td>TSLA</td>\n",
       "    </tr>\n",
       "    <tr>\n",
       "      <th>1</th>\n",
       "      <td>2016-11-28</td>\n",
       "      <td>rubicon59: equityaddict Should I compare to $a...</td>\n",
       "      <td>AMZN</td>\n",
       "    </tr>\n",
       "    <tr>\n",
       "      <th>2</th>\n",
       "      <td>2018-04-28</td>\n",
       "      <td>After #Flipkart buy is $WMT eying $EBAY which ...</td>\n",
       "      <td>AMZN</td>\n",
       "    </tr>\n",
       "    <tr>\n",
       "      <th>3</th>\n",
       "      <td>2019-07-16</td>\n",
       "      <td>Tesla “we were able to cut costs by firing eve...</td>\n",
       "      <td>TSLA</td>\n",
       "    </tr>\n",
       "    <tr>\n",
       "      <th>4</th>\n",
       "      <td>2018-05-02</td>\n",
       "      <td>$TSLA - A call for the history books - this ti...</td>\n",
       "      <td>TSLA</td>\n",
       "    </tr>\n",
       "  </tbody>\n",
       "</table>\n",
       "</div>"
      ],
      "text/plain": [
       "    post_date                                              tweet ticker_symbol\n",
       "0  2019-03-07                                 There we go  $TSLA          TSLA\n",
       "1  2016-11-28  rubicon59: equityaddict Should I compare to $a...          AMZN\n",
       "2  2018-04-28  After #Flipkart buy is $WMT eying $EBAY which ...          AMZN\n",
       "3  2019-07-16  Tesla “we were able to cut costs by firing eve...          TSLA\n",
       "4  2018-05-02  $TSLA - A call for the history books - this ti...          TSLA"
      ]
     },
     "execution_count": 19,
     "metadata": {},
     "output_type": "execute_result"
    }
   ],
   "source": [
    "all = pd.concat([raw_test,raw_train])\n",
    "df = all.loc[:,['post_date','tweet','ticker_symbol']]\n",
    "df.head()"
   ]
  },
  {
   "cell_type": "code",
   "execution_count": 20,
   "metadata": {},
   "outputs": [
    {
     "name": "stdout",
     "output_type": "stream",
     "text": [
      "post_date        object\n",
      "tweet            object\n",
      "ticker_symbol    object\n",
      "dtype: object\n",
      "(120000, 3)\n",
      "post_date        datetime64[ns]\n",
      "tweet                    object\n",
      "ticker_symbol            object\n",
      "dtype: object\n",
      "(93133, 3)\n"
     ]
    }
   ],
   "source": [
    "print(df.dtypes)\n",
    "print(df.shape)\n",
    "# df['tweet'] = df['tweet'].astype('str') \n",
    "df['ticker_symbol'] = df['ticker_symbol'].astype('str') \n",
    "df['post_date'] = pd.to_datetime(df['post_date'], format='%Y-%m-%d', errors='coerce')\n",
    "df = df.dropna()\n",
    "print(df.dtypes)\n",
    "print(df.shape)\n",
    "df.to_csv('all.csv')"
   ]
  },
  {
   "cell_type": "code",
   "execution_count": 24,
   "metadata": {},
   "outputs": [
    {
     "name": "stdout",
     "output_type": "stream",
     "text": [
      "               averge tweets per day\n",
      "ticker_symbol                       \n",
      "AAPL                       15.036786\n",
      "AMZN                        7.618270\n",
      "GOOG                        4.821138\n",
      "MSFT                        2.676543\n",
      "TSLA                       24.746260\n",
      "['TSLA' 'AMZN' 'AAPL' 'GOOG' 'MSFT']\n"
     ]
    }
   ],
   "source": [
    "df_sum = df.groupby(['ticker_symbol','post_date']).count().groupby('ticker_symbol')['tweet'].mean()\n",
    "a = pd.DataFrame(df_sum)\n",
    "a.columns=['averge tweets per day']\n",
    "print(a)\n",
    "\n",
    "print(df['ticker_symbol'].unique())"
   ]
  }
 ],
 "metadata": {
  "kernelspec": {
   "display_name": "Python 3",
   "language": "python",
   "name": "python3"
  },
  "language_info": {
   "codemirror_mode": {
    "name": "ipython",
    "version": 3
   },
   "file_extension": ".py",
   "mimetype": "text/x-python",
   "name": "python",
   "nbconvert_exporter": "python",
   "pygments_lexer": "ipython3",
   "version": "3.11.8"
  }
 },
 "nbformat": 4,
 "nbformat_minor": 2
}
